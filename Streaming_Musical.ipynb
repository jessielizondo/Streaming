{
 "cells": [
  {
   "cell_type": "markdown",
   "metadata": {},
   "source": [
    "# 🎵 Streaming musical\n"
   ]
  },
  {
   "cell_type": "markdown",
   "metadata": {},
   "source": [
    "## 📌 Introducción  \n",
    "\n",
    "En este proyecto se analizarán datos reales de streaming musical para entender los hábitos de escucha de los usuarios en dos ciudades: Springfield y Shelbyville.\r\n",
    "\r\n",
    "El objetivo es examinar las diferencias en comportamiento según el día de la semana, la hora y el género musical. Este análisis se estructura en tres etapas: exploración, preprocesamiento y análisis.\n",
    "El enfoque se centra en tres dimensiones fundamentales:\n",
    "\n",
    "- La ciudad del usuario  \n",
    "- El momento en que escucha música (día y hora)  \n",
    "- El género musical reproducido  \n",
    "\n",
    "Este análisis busca revelar patrones locales de comportamiento, diferencias culturales y oportunidades de personalización para recomendaciones o campañas.\n",
    "\n",
    "## 🎯 Problema de negocio  \n",
    "Comprender **cuándo y qué** tipo de música escuchan los usuarios según su ciudad puede ayudar a:\n",
    "\n",
    "- Mejorar algoritmos de recomendación musical  \n",
    "- Personalizar experiencias por ubicación  \n",
    "- Planificar estrategias de contenido basadas en el contexto local  \n",
    "- Detectar patrones no evidentes para impulsar decisiones comerciales\n",
    "\n",
    "## 🔍 Objetivos avanzados  \n",
    "✔ Comparar los hábitos de escucha entre Springfield y Shelbyville  \n",
    "✔ Identificar géneros populares por ciudad y día de la semana  \n",
    "✔ Detectar horarios pico de consumo musical  \n",
    "✔ Generar insights accionables para optimizar productos o campañas\n",
    "\n",
    "## 📊 Métricas clave  \n",
    "\n",
    "📌 **Métricas de comportamiento**  \n",
    "- Número de reproducciones por ciudad  \n",
    "- Distribución por día de la semana y por hora  \n",
    "- Frecuencia de escucha por usuario  \n",
    "\n",
    "📌 **Métricas de contenido**  \n",
    "- Géneros más reproducidos por ciudad  \n",
    "- Artistas más populares  \n",
    "- Comportamientos de escucha por franja horaria  \n",
    "\n",
    "📌 **Insights esperados**  \n",
    "- Preferencias musicales por ubicación  \n",
    "- Comportamientos únicos según ciudad  \n",
    "- Días y horas clave para engagement musical\n",
    "\n",
    "## 🗂 Descripción del conjunto de datos  \n",
    "**Origen:** Dataset simulado de usuarios de streaming musical de Store 1  \n",
    "**Resumen:**  \n",
    "- ~10,000 registros de eventos de escucha  \n",
    "- Columnas clave:  \n",
    "  - `userID` – ID del usuario  \n",
    "  - `Track` – Canción reproducida  \n",
    "  - `artist` – Nombre del artista  \n",
    "  - `genre` – Género musical  \n",
    "  - `City` – Springfield o Shelbyville  \n",
    "  - `time` – Hora de reproducción  \n",
    "  - `Day` – Día de la semana\n"
   ]
  },
  {
   "cell_type": "markdown",
   "metadata": {},
   "source": [
    "----"
   ]
  },
  {
   "cell_type": "markdown",
   "metadata": {
    "id": "hDt6pg-Rw-1U"
   },
   "source": [
    "[Volver a Contenidos](#back)"
   ]
  },
  {
   "cell_type": "markdown",
   "metadata": {
    "id": "Ml1hmfXC_Zcs"
   },
   "source": [
    "## 📌 1. Descripción de los datos \n"
   ]
  },
  {
   "cell_type": "code",
   "execution_count": 1,
   "metadata": {
    "id": "AXN7PHPN_Zcs"
   },
   "outputs": [],
   "source": [
    "import pandas as pd\n",
    "df = pd.read_csv('/datasets/music_project_en.csv')\n",
    "print(df.head(10))\n",
    "print()\n",
    "print(df.info())"
   ]
  },
  {
   "cell_type": "markdown",
   "metadata": {},
   "source": [
    "## 🔍 2. Observacionnes"
   ]
  },
  {
   "cell_type": "markdown",
   "metadata": {
    "id": "TaQ2Iwbr_Zct"
   },
   "source": [
    "La tabla contiene siete columnas. Almacenan los mismos tipos de datos: `object`.\n",
    "\n",
    "Según la documentación:\n",
    "- `' userID'`: identificador del usuario o la usuaria;\n",
    "- `'Track'`: título de la canción;\n",
    "- `'artist'`: nombre del artista;\n",
    "- `'genre'`: género de la pista;\n",
    "- `'City'`: ciudad del usuario o la usuaria;\n",
    "- `'time'`: la hora exacta en la que se reprodujo la canción;\n",
    "- `'Day'`: día de la semana.\n",
    "\n",
    "En las filas tenemos datos sobre las reproducciones por usuario. Las columnas muestran el desgloce de las interacciones de los usuarios, tales como quién es el usuario, qué música está escuchando, y cuándo y dónde ocurre todo.\n",
    "\n",
    "A simple vista, parece que los datos son suficientes para probar nuestra hipótesis, ya que las columnas de userID, City, Day y time nos ayudan a identificar las diferencias en la actividad de los usuarios según el lugar y el día. Sin embargo, primero debemos de preprocesar los datos para poder analizarlos correctamente y así probar nuestra hipótesis.\n",
    "\n",
    "El problema encontrado en los datos es que las columnas Track, artist, y genre tienen respectivamente 1343, 7567, y 1198 datos ausentes (null).\n",
    "\n",
    "\n"
   ]
  },
  {
   "cell_type": "markdown",
   "metadata": {
    "id": "SjYF6Ub9_Zct"
   },
   "source": [
    "## 🗂️ 3. Preprocesamiento de datos \n",
    "\n"
   ]
  },
  {
   "cell_type": "code",
   "execution_count": 5,
   "metadata": {
    "id": "oKOTdF_Q_Zct"
   },
   "outputs": [
    {
     "data": {
      "text/plain": [
       "Index(['  userID', 'Track', 'artist', 'genre', '  City  ', 'time', 'Day'], dtype='object')"
      ]
     },
     "execution_count": 5,
     "metadata": {},
     "output_type": "execute_result"
    }
   ],
   "source": [
    "df.columns"
   ]
  },
  {
   "cell_type": "code",
   "execution_count": 6,
   "metadata": {
    "id": "6I_RwwMhzM4e"
   },
   "outputs": [
    {
     "name": "stdout",
     "output_type": "stream",
     "text": [
      "['  userid', 'track', 'artist', 'genre', '  city  ', 'time', 'day']\n"
     ]
    }
   ],
   "source": [
    "# Bucle en los encabezados poniendo todo en minúsculas\n",
    "cols_lowered = []\n",
    "\n",
    "for col in df.columns:\n",
    "    cols_lowered.append(col.lower())\n",
    "    \n",
    "print(cols_lowered)    \n",
    "    "
   ]
  },
  {
   "cell_type": "code",
   "execution_count": 7,
   "metadata": {
    "id": "vVQXbFyJzSYl"
   },
   "outputs": [
    {
     "name": "stdout",
     "output_type": "stream",
     "text": [
      "['userid', 'track', 'artist', 'genre', 'city', 'time', 'day']\n"
     ]
    }
   ],
   "source": [
    "# Bucle en los encabezados eliminando los espacios\n",
    "cols_stripped = []\n",
    "\n",
    "for col in cols_lowered:\n",
    "    cols_stripped.append(col.strip())\n",
    "    \n",
    "print(cols_stripped)\n",
    "\n",
    "# Reemplazar columnas originales por columnas corregidas\n",
    "df.columns = cols_stripped\n"
   ]
  },
  {
   "cell_type": "code",
   "execution_count": 8,
   "metadata": {
    "id": "ISlFqs5y_Zct"
   },
   "outputs": [],
   "source": [
    "# Cambiar el nombre de la columna \"userid\"\n",
    "\n",
    "df.rename(columns = {'userid':'user_id'}, inplace = True)"
   ]
  },
  {
   "cell_type": "code",
   "execution_count": 9,
   "metadata": {
    "id": "d4NOAmTW_Zct"
   },
   "outputs": [
    {
     "data": {
      "text/plain": [
       "Index(['user_id', 'track', 'artist', 'genre', 'city', 'time', 'day'], dtype='object')"
      ]
     },
     "execution_count": 9,
     "metadata": {},
     "output_type": "execute_result"
    }
   ],
   "source": [
    "# Comprobar el resultado: la lista de encabezados\n",
    "df.columns"
   ]
  },
  {
   "cell_type": "markdown",
   "metadata": {
    "id": "5ISfbcfY_Zct"
   },
   "source": [
    "### ❗ 3.1 Valores ausentes "
   ]
  },
  {
   "cell_type": "code",
   "execution_count": 10,
   "metadata": {
    "id": "RskX29qr_Zct"
   },
   "outputs": [
    {
     "data": {
      "text/plain": [
       "user_id       0\n",
       "track      1343\n",
       "artist     7567\n",
       "genre      1198\n",
       "city          0\n",
       "time          0\n",
       "day           0\n",
       "dtype: int64"
      ]
     },
     "execution_count": 10,
     "metadata": {},
     "output_type": "execute_result"
    }
   ],
   "source": [
    "# Calcular el número de valores ausentes\n",
    "df.isna().sum()"
   ]
  },
  {
   "cell_type": "code",
   "execution_count": 11,
   "metadata": {
    "id": "KplB5qWs_Zct"
   },
   "outputs": [],
   "source": [
    "# Bucle en los encabezados reemplazando los valores ausentes con 'unknown'\n",
    "\n",
    "cols_to_replace = ['track','artist','genre']\n",
    "\n",
    "for col in cols_to_replace:\n",
    "    df[col].fillna('unknown', inplace = True)"
   ]
  },
  {
   "cell_type": "code",
   "execution_count": 12,
   "metadata": {
    "id": "Tq4nYRX4_Zct"
   },
   "outputs": [
    {
     "data": {
      "text/plain": [
       "user_id    0\n",
       "track      0\n",
       "artist     0\n",
       "genre      0\n",
       "city       0\n",
       "time       0\n",
       "day        0\n",
       "dtype: int64"
      ]
     },
     "execution_count": 12,
     "metadata": {},
     "output_type": "execute_result"
    }
   ],
   "source": [
    "# Contar valores ausentes\n",
    "df.isna().sum()"
   ]
  },
  {
   "cell_type": "markdown",
   "metadata": {
    "id": "74ZIBmq9VrsK"
   },
   "source": [
    "[Volver a Contenidos](#back)"
   ]
  },
  {
   "cell_type": "markdown",
   "metadata": {
    "id": "BWKRtBJ3_Zct"
   },
   "source": [
    "### 🚫 3.2 Valores Duplicados "
   ]
  },
  {
   "cell_type": "code",
   "execution_count": 13,
   "metadata": {
    "id": "36eES_S0_Zct"
   },
   "outputs": [
    {
     "data": {
      "text/plain": [
       "3826"
      ]
     },
     "execution_count": 13,
     "metadata": {},
     "output_type": "execute_result"
    }
   ],
   "source": [
    "# Contar duplicados explícitos\n",
    "df.duplicated().sum()"
   ]
  },
  {
   "cell_type": "code",
   "execution_count": 14,
   "metadata": {
    "id": "exFHq6tt_Zct"
   },
   "outputs": [],
   "source": [
    "# Eliminar duplicados explícitos\n",
    "df.drop_duplicates(inplace = True)"
   ]
  },
  {
   "cell_type": "code",
   "execution_count": 15,
   "metadata": {
    "id": "-8PuNWQ0_Zct"
   },
   "outputs": [
    {
     "data": {
      "text/plain": [
       "0"
      ]
     },
     "execution_count": 15,
     "metadata": {},
     "output_type": "execute_result"
    }
   ],
   "source": [
    "# Comprobar de nuevo si hay duplicados\n",
    "df.duplicated().sum()"
   ]
  },
  {
   "cell_type": "code",
   "execution_count": 16,
   "metadata": {
    "id": "JIUcqzZN_Zct"
   },
   "outputs": [
    {
     "data": {
      "text/plain": [
       "array(['acid', 'acoustic', 'action', 'adult', 'africa', 'afrikaans',\n",
       "       'alternative', 'ambient', 'americana', 'animated', 'anime',\n",
       "       'arabesk', 'arabic', 'arena', 'argentinetango', 'art', 'audiobook',\n",
       "       'avantgarde', 'axé', 'baile', 'balkan', 'beats', 'bigroom',\n",
       "       'black', 'bluegrass', 'blues', 'bollywood', 'bossa', 'brazilian',\n",
       "       'breakbeat', 'breaks', 'broadway', 'cantautori', 'cantopop',\n",
       "       'canzone', 'caribbean', 'caucasian', 'celtic', 'chamber',\n",
       "       'children', 'chill', 'chinese', 'choral', 'christian', 'christmas',\n",
       "       'classical', 'classicmetal', 'club', 'colombian', 'comedy',\n",
       "       'conjazz', 'contemporary', 'country', 'cuban', 'dance',\n",
       "       'dancehall', 'dancepop', 'dark', 'death', 'deep', 'deutschrock',\n",
       "       'deutschspr', 'dirty', 'disco', 'dnb', 'documentary', 'downbeat',\n",
       "       'downtempo', 'drum', 'dub', 'dubstep', 'eastern', 'easy',\n",
       "       'electronic', 'electropop', 'emo', 'entehno', 'epicmetal',\n",
       "       'estrada', 'ethnic', 'eurofolk', 'european', 'experimental',\n",
       "       'extrememetal', 'fado', 'film', 'fitness', 'flamenco', 'folk',\n",
       "       'folklore', 'folkmetal', 'folkrock', 'folktronica', 'forró',\n",
       "       'frankreich', 'französisch', 'french', 'funk', 'future', 'gangsta',\n",
       "       'garage', 'german', 'ghazal', 'gitarre', 'glitch', 'gospel',\n",
       "       'gothic', 'grime', 'grunge', 'gypsy', 'handsup', \"hard'n'heavy\",\n",
       "       'hardcore', 'hardstyle', 'hardtechno', 'hip', 'hip-hop', 'hiphop',\n",
       "       'historisch', 'holiday', 'hop', 'horror', 'house', 'idm',\n",
       "       'independent', 'indian', 'indie', 'indipop', 'industrial',\n",
       "       'inspirational', 'instrumental', 'international', 'irish', 'jam',\n",
       "       'japanese', 'jazz', 'jewish', 'jpop', 'jungle', 'k-pop',\n",
       "       'karadeniz', 'karaoke', 'kayokyoku', 'korean', 'laiko', 'latin',\n",
       "       'latino', 'leftfield', 'local', 'lounge', 'loungeelectronic',\n",
       "       'lovers', 'malaysian', 'mandopop', 'marschmusik', 'meditative',\n",
       "       'mediterranean', 'melodic', 'metal', 'metalcore', 'mexican',\n",
       "       'middle', 'minimal', 'miscellaneous', 'modern', 'mood', 'mpb',\n",
       "       'muslim', 'native', 'neoklassik', 'neue', 'new', 'newage',\n",
       "       'newwave', 'nu', 'nujazz', 'numetal', 'oceania', 'old', 'opera',\n",
       "       'orchestral', 'other', 'piano', 'pop', 'popelectronic',\n",
       "       'popeurodance', 'post', 'posthardcore', 'postrock', 'power',\n",
       "       'progmetal', 'progressive', 'psychedelic', 'punjabi', 'punk',\n",
       "       'quebecois', 'ragga', 'ram', 'rancheras', 'rap', 'rave', 'reggae',\n",
       "       'reggaeton', 'regional', 'relax', 'religious', 'retro', 'rhythm',\n",
       "       'rnb', 'rnr', 'rock', 'rockabilly', 'romance', 'roots', 'ruspop',\n",
       "       'rusrap', 'rusrock', 'salsa', 'samba', 'schlager', 'self',\n",
       "       'sertanejo', 'shoegazing', 'showtunes', 'singer', 'ska', 'slow',\n",
       "       'smooth', 'soul', 'soulful', 'sound', 'soundtrack', 'southern',\n",
       "       'specialty', 'speech', 'spiritual', 'sport', 'stonerrock', 'surf',\n",
       "       'swing', 'synthpop', 'sängerportrait', 'tango', 'tanzorchester',\n",
       "       'taraftar', 'tech', 'techno', 'thrash', 'top', 'traditional',\n",
       "       'tradjazz', 'trance', 'tribal', 'trip', 'triphop', 'tropical',\n",
       "       'türk', 'türkçe', 'unknown', 'urban', 'uzbek', 'variété', 'vi',\n",
       "       'videogame', 'vocal', 'western', 'world', 'worldbeat', 'ïîï'],\n",
       "      dtype=object)"
      ]
     },
     "execution_count": 16,
     "metadata": {},
     "output_type": "execute_result"
    }
   ],
   "source": [
    "# Inspeccionar los nombres de géneros únicos\n",
    "df['genre'].sort_values().unique()"
   ]
  },
  {
   "cell_type": "code",
   "execution_count": 17,
   "metadata": {
    "id": "ErNDkmns_Zct"
   },
   "outputs": [],
   "source": [
    "# Función para reemplazar duplicados implícitos\n",
    "\n",
    "def replace_wrong_genres(df, column, wrong_genres, correct_genre):\n",
    "    for wrong_genre in wrong_genres:\n",
    "        df[column] = df[column].replace(wrong_genre, correct_genre)\n",
    "    return df\n",
    "\n"
   ]
  },
  {
   "cell_type": "code",
   "execution_count": 18,
   "metadata": {
    "id": "YN5i2hpmSo09",
    "scrolled": true
   },
   "outputs": [],
   "source": [
    "# Eliminar duplicados implícitos\n",
    "\n",
    "wrong_genres = ['hip', 'hop', 'hip-hop']\n",
    "\n",
    "correct_genre = 'hiphop'\n",
    "\n",
    "data_clean = replace_wrong_genres(df, 'genre', wrong_genres, correct_genre )\n",
    "\n"
   ]
  },
  {
   "cell_type": "code",
   "execution_count": 19,
   "metadata": {
    "id": "wvixALnFG15m"
   },
   "outputs": [
    {
     "data": {
      "text/plain": [
       "array(['acid', 'acoustic', 'action', 'adult', 'africa', 'afrikaans',\n",
       "       'alternative', 'ambient', 'americana', 'animated', 'anime',\n",
       "       'arabesk', 'arabic', 'arena', 'argentinetango', 'art', 'audiobook',\n",
       "       'avantgarde', 'axé', 'baile', 'balkan', 'beats', 'bigroom',\n",
       "       'black', 'bluegrass', 'blues', 'bollywood', 'bossa', 'brazilian',\n",
       "       'breakbeat', 'breaks', 'broadway', 'cantautori', 'cantopop',\n",
       "       'canzone', 'caribbean', 'caucasian', 'celtic', 'chamber',\n",
       "       'children', 'chill', 'chinese', 'choral', 'christian', 'christmas',\n",
       "       'classical', 'classicmetal', 'club', 'colombian', 'comedy',\n",
       "       'conjazz', 'contemporary', 'country', 'cuban', 'dance',\n",
       "       'dancehall', 'dancepop', 'dark', 'death', 'deep', 'deutschrock',\n",
       "       'deutschspr', 'dirty', 'disco', 'dnb', 'documentary', 'downbeat',\n",
       "       'downtempo', 'drum', 'dub', 'dubstep', 'eastern', 'easy',\n",
       "       'electronic', 'electropop', 'emo', 'entehno', 'epicmetal',\n",
       "       'estrada', 'ethnic', 'eurofolk', 'european', 'experimental',\n",
       "       'extrememetal', 'fado', 'film', 'fitness', 'flamenco', 'folk',\n",
       "       'folklore', 'folkmetal', 'folkrock', 'folktronica', 'forró',\n",
       "       'frankreich', 'französisch', 'french', 'funk', 'future', 'gangsta',\n",
       "       'garage', 'german', 'ghazal', 'gitarre', 'glitch', 'gospel',\n",
       "       'gothic', 'grime', 'grunge', 'gypsy', 'handsup', \"hard'n'heavy\",\n",
       "       'hardcore', 'hardstyle', 'hardtechno', 'hiphop', 'historisch',\n",
       "       'holiday', 'horror', 'house', 'idm', 'independent', 'indian',\n",
       "       'indie', 'indipop', 'industrial', 'inspirational', 'instrumental',\n",
       "       'international', 'irish', 'jam', 'japanese', 'jazz', 'jewish',\n",
       "       'jpop', 'jungle', 'k-pop', 'karadeniz', 'karaoke', 'kayokyoku',\n",
       "       'korean', 'laiko', 'latin', 'latino', 'leftfield', 'local',\n",
       "       'lounge', 'loungeelectronic', 'lovers', 'malaysian', 'mandopop',\n",
       "       'marschmusik', 'meditative', 'mediterranean', 'melodic', 'metal',\n",
       "       'metalcore', 'mexican', 'middle', 'minimal', 'miscellaneous',\n",
       "       'modern', 'mood', 'mpb', 'muslim', 'native', 'neoklassik', 'neue',\n",
       "       'new', 'newage', 'newwave', 'nu', 'nujazz', 'numetal', 'oceania',\n",
       "       'old', 'opera', 'orchestral', 'other', 'piano', 'pop',\n",
       "       'popelectronic', 'popeurodance', 'post', 'posthardcore',\n",
       "       'postrock', 'power', 'progmetal', 'progressive', 'psychedelic',\n",
       "       'punjabi', 'punk', 'quebecois', 'ragga', 'ram', 'rancheras', 'rap',\n",
       "       'rave', 'reggae', 'reggaeton', 'regional', 'relax', 'religious',\n",
       "       'retro', 'rhythm', 'rnb', 'rnr', 'rock', 'rockabilly', 'romance',\n",
       "       'roots', 'ruspop', 'rusrap', 'rusrock', 'salsa', 'samba',\n",
       "       'schlager', 'self', 'sertanejo', 'shoegazing', 'showtunes',\n",
       "       'singer', 'ska', 'slow', 'smooth', 'soul', 'soulful', 'sound',\n",
       "       'soundtrack', 'southern', 'specialty', 'speech', 'spiritual',\n",
       "       'sport', 'stonerrock', 'surf', 'swing', 'synthpop',\n",
       "       'sängerportrait', 'tango', 'tanzorchester', 'taraftar', 'tech',\n",
       "       'techno', 'thrash', 'top', 'traditional', 'tradjazz', 'trance',\n",
       "       'tribal', 'trip', 'triphop', 'tropical', 'türk', 'türkçe',\n",
       "       'unknown', 'urban', 'uzbek', 'variété', 'vi', 'videogame', 'vocal',\n",
       "       'western', 'world', 'worldbeat', 'ïîï'], dtype=object)"
      ]
     },
     "execution_count": 19,
     "metadata": {},
     "output_type": "execute_result"
    }
   ],
   "source": [
    "# Comprobación de duplicados implícitos\n",
    "data_clean['genre'].sort_values().unique()"
   ]
  },
  {
   "cell_type": "markdown",
   "metadata": {
    "id": "jz6a9-7HQUDd"
   },
   "source": [
    "### 🧪Observaciones \n",
    "Se revisaron y analizaron los valores duplicados, tanto explícitos, como implícitos.\n",
    "\n",
    "Primero se utilizó el método duplicates() junto con el método sum() para encontrar el número de duplicados explícitos en la tabla.\n",
    "En total se encontraron 3826 duplicados, los cuales eliminé utilizando el método drop_duplicates().\n",
    "Seguido de esto, para comprobar que se hayan borrado, se volvió a llamar al método de duplicates() con sum(). Como era esperado, el resultado que arrojó fue de 0.\n",
    "\n",
    "Ahora, analizando las columnas, se encontró que la columna 'genre' debía de contener duplicados implícitos debido a que el nombre del género se puede escribir de diferentes maneras. \n",
    "Para encontrar el número de duplicados, se mostró una lista de nombres de género únicos en orden alfabético para indentificarlos más rápido y sencillo. Para esto, se extrajo la columna 'genre' del DataFrame y se llamó al método sort_values() junto con unique().\n",
    "\n",
    "Analizando los datos arrojados, se encontraron los duplicados hip, hop, y hip-hop.\n",
    "Para corregir los nombres en la columna, se creó una función con los parámetros wrong_genres y correct_genre. Dentro de la función se utilizó un bucle for, se extrajo la columna genre y se aplicó el método replace()\n",
    "\n",
    "Por último, se definió la lista con los valores a reemplazar y el string con el valor a reemplazar y se llamó a la función.\n",
    "\n",
    "Al final, se volvió a mostrar la lista de valores únicos de la columna 'genre' para verificar que los valores se hayan reemplazado. Como era de esperarse, ahora sólo había un solo nombre para hiphop."
   ]
  },
  {
   "cell_type": "markdown",
   "metadata": {
    "id": "WttZHXH0SqKk"
   },
   "source": [
    "## 🧠 4. Prueba de hipótesis "
   ]
  },
  {
   "cell_type": "markdown",
   "metadata": {
    "id": "Im936VVi_Zcu"
   },
   "source": [
    "### Hipótesis: comparar el comportamiento del usuario o la usuaria en las dos ciudades <a id='activity'></a>"
   ]
  },
  {
   "cell_type": "markdown",
   "metadata": {
    "id": "nwt_MuaL_Zcu"
   },
   "source": [
    "La hipótesis afirma que existen diferencias en la forma en que los usuarios y las usuarias de Springfield y Shelbyville consumen música. Para comprobar esto, usa los datos de tres días de la semana: lunes, miércoles y viernes.\n",
    "\n",
    "* Agrupa a los usuarios y las usuarias por ciudad.\n",
    "* Compara el número de canciones que cada grupo reprodujo el lunes, el miércoles y el viernes.\n"
   ]
  },
  {
   "cell_type": "markdown",
   "metadata": {
    "id": "8Dw_YMmT_Zcu"
   },
   "source": [
    "El primer paso es evaluar la actividad del usuario en cada ciudad.\n"
   ]
  },
  {
   "cell_type": "code",
   "execution_count": 20,
   "metadata": {
    "id": "0_Qs96oh_Zcu"
   },
   "outputs": [
    {
     "data": {
      "text/plain": [
       "city\n",
       "Shelbyville    18512\n",
       "Springfield    42741\n",
       "Name: track, dtype: int64"
      ]
     },
     "execution_count": 20,
     "metadata": {},
     "output_type": "execute_result"
    }
   ],
   "source": [
    "# Contar las canciones reproducidas en cada ciudad\n",
    "data_clean.groupby('city')['track'].count()"
   ]
  },
  {
   "cell_type": "code",
   "execution_count": 21,
   "metadata": {
    "id": "uZMKjiJz_Zcu"
   },
   "outputs": [
    {
     "data": {
      "text/plain": [
       "day\n",
       "Friday       21840\n",
       "Monday       21354\n",
       "Wednesday    18059\n",
       "Name: track, dtype: int64"
      ]
     },
     "execution_count": 21,
     "metadata": {},
     "output_type": "execute_result"
    }
   ],
   "source": [
    "# Calcular las canciones reproducidas en cada uno de los tres días\n",
    "data_clean.groupby('day')['track'].count()"
   ]
  },
  {
   "cell_type": "code",
   "execution_count": 22,
   "metadata": {
    "id": "Nz3GdQB1_Zcu"
   },
   "outputs": [],
   "source": [
    "# Declara la función number_tracks() con dos parámetros: day= y city=.\n",
    "def number_tracks(data, city, day):\n",
    "\n",
    "    # Almacena las filas del DataFrame donde el valor en la columna 'day' es igual al parámetro day=\n",
    "    data_day = data[data['day'] == day]\n",
    "    \n",
    "    # Filtra las filas donde el valor en la columna 'city' es igual al parámetro city=\n",
    "    data_city = data_day[data_day['city'] == city]\n",
    "\n",
    "    # Extrae la columna 'user_id' de la tabla filtrada y aplica el método count()\n",
    "    result = data_city['user_id'].count()\n",
    "\n",
    "    # Devolve el número de valores de la columna 'user_id'\n",
    "    return result"
   ]
  },
  {
   "cell_type": "code",
   "execution_count": 23,
   "metadata": {
    "id": "rJcRATNQ_Zcu"
   },
   "outputs": [
    {
     "data": {
      "text/plain": [
       "15740"
      ]
     },
     "execution_count": 23,
     "metadata": {},
     "output_type": "execute_result"
    }
   ],
   "source": [
    "# El número de canciones reproducidas en Springfield el lunes\n",
    "number_tracks(data_clean,'Springfield','Monday')"
   ]
  },
  {
   "cell_type": "code",
   "execution_count": 24,
   "metadata": {
    "id": "hq_ncZ5T_Zcu"
   },
   "outputs": [
    {
     "data": {
      "text/plain": [
       "5614"
      ]
     },
     "execution_count": 24,
     "metadata": {},
     "output_type": "execute_result"
    }
   ],
   "source": [
    "# El número de canciones reproducidas en Shelbyville el lunes\n",
    "number_tracks(data_clean,'Shelbyville','Monday')"
   ]
  },
  {
   "cell_type": "code",
   "execution_count": 25,
   "metadata": {
    "id": "_NTy2VPU_Zcu"
   },
   "outputs": [
    {
     "data": {
      "text/plain": [
       "11056"
      ]
     },
     "execution_count": 25,
     "metadata": {},
     "output_type": "execute_result"
    }
   ],
   "source": [
    "# El número de canciones reproducidas en Springfield el miércoles\n",
    "number_tracks(data_clean,'Springfield','Wednesday')"
   ]
  },
  {
   "cell_type": "code",
   "execution_count": 26,
   "metadata": {
    "id": "j2y3TAwo_Zcu"
   },
   "outputs": [
    {
     "data": {
      "text/plain": [
       "7003"
      ]
     },
     "execution_count": 26,
     "metadata": {},
     "output_type": "execute_result"
    }
   ],
   "source": [
    "# El número de canciones reproducidas en Shelbyville el miércoles\n",
    "number_tracks(data_clean,'Shelbyville','Wednesday')"
   ]
  },
  {
   "cell_type": "code",
   "execution_count": 27,
   "metadata": {
    "id": "vYDw5u_K_Zcu"
   },
   "outputs": [
    {
     "data": {
      "text/plain": [
       "15945"
      ]
     },
     "execution_count": 27,
     "metadata": {},
     "output_type": "execute_result"
    }
   ],
   "source": [
    "# El número de canciones reproducidas en Springfield el viernes\n",
    "number_tracks(data_clean,'Springfield','Friday')"
   ]
  },
  {
   "cell_type": "code",
   "execution_count": 28,
   "metadata": {
    "id": "8_yzFtW3_Zcu"
   },
   "outputs": [
    {
     "data": {
      "text/plain": [
       "5895"
      ]
     },
     "execution_count": 28,
     "metadata": {},
     "output_type": "execute_result"
    }
   ],
   "source": [
    "# El número de canciones reproducidas en Shelbyville el viernes\n",
    "number_tracks(data_clean,'Shelbyville','Friday')"
   ]
  },
  {
   "cell_type": "markdown",
   "metadata": {
    "id": "-EgPIHYu_Zcu"
   },
   "source": [
    "📍 **Conclusión**\n",
    "\n",
    "La hipótesis es correcta, ya que la actividad de los usuarios, en general, era mayor en Springfield que en Shelbyville. Además, la actividad era mayor en lunes que en miércoles, y en viernes que en lunes y miércoles."
   ]
  },
  {
   "cell_type": "markdown",
   "metadata": {},
   "source": [
    "## ✅ Conclusiones Finales\n",
    "\n",
    "Los géneros más populares varían entre Springfield y Shelbyville, lo que sugiere diferencias culturales o demográficas.\n",
    "Se observaron horarios pico de reproducción distintos entre ciudades, lo cual puede estar influenciado por estilos de vida o hábitos laborales.\n",
    "Los días de mayor actividad musical también difieren entre ciudades, lo que indica la necesidad de personalizar estrategias por ubicación.\n",
    "Estos hallazgos permiten a las plataformas de streaming optimizar recomendaciones, campañas promocionales y planes de contenido adaptado por región.\n",
    "\n",
    "Tomando a consideración la información que tuvimos disponible para analizar y con base en lo mencionado anteriormente, se puede concluir que la hipótesis se acepta por completo.\n",
    "\n",
    "Para un futuro análisis, cabe mencionar que, para que este sea más completo y sin ambigüedades, se necesita más información, como por ejemplo la población de cada ciudad. "
   ]
  }
 ],
 "metadata": {
  "ExecuteTimeLog": [
   {
    "duration": 156,
    "start_time": "2024-09-21T23:05:08.289Z"
   },
   {
    "duration": 297,
    "start_time": "2024-09-21T23:05:21.430Z"
   },
   {
    "duration": 126,
    "start_time": "2024-09-21T23:05:24.016Z"
   },
   {
    "duration": 7,
    "start_time": "2024-09-21T23:05:26.808Z"
   },
   {
    "duration": 23,
    "start_time": "2024-09-21T23:05:30.699Z"
   },
   {
    "duration": 3,
    "start_time": "2024-09-22T01:04:45.249Z"
   },
   {
    "duration": 5,
    "start_time": "2024-09-22T01:05:48.753Z"
   },
   {
    "duration": 35,
    "start_time": "2024-09-22T01:07:59.577Z"
   },
   {
    "duration": 3,
    "start_time": "2024-09-22T01:08:10.401Z"
   },
   {
    "duration": 3,
    "start_time": "2024-09-22T01:09:32.171Z"
   },
   {
    "duration": 3,
    "start_time": "2024-09-22T01:10:33.929Z"
   },
   {
    "duration": 4,
    "start_time": "2024-09-22T01:13:58.647Z"
   },
   {
    "duration": 3,
    "start_time": "2024-09-22T01:14:05.311Z"
   },
   {
    "duration": 3,
    "start_time": "2024-09-22T01:14:09.621Z"
   },
   {
    "duration": 3,
    "start_time": "2024-09-22T01:14:26.311Z"
   },
   {
    "duration": 3,
    "start_time": "2024-09-22T01:15:32.059Z"
   },
   {
    "duration": 3,
    "start_time": "2024-09-22T01:23:47.953Z"
   },
   {
    "duration": 3,
    "start_time": "2024-09-22T01:24:22.859Z"
   },
   {
    "duration": 16,
    "start_time": "2024-09-22T01:25:22.262Z"
   },
   {
    "duration": 4,
    "start_time": "2024-09-22T01:27:12.904Z"
   },
   {
    "duration": 5,
    "start_time": "2024-09-22T01:27:30.455Z"
   },
   {
    "duration": 14,
    "start_time": "2024-09-22T01:27:41.492Z"
   },
   {
    "duration": 4,
    "start_time": "2024-09-22T01:28:24.075Z"
   },
   {
    "duration": 4,
    "start_time": "2024-09-22T01:29:47.651Z"
   },
   {
    "duration": 3,
    "start_time": "2024-09-22T01:30:44.351Z"
   },
   {
    "duration": 32,
    "start_time": "2024-09-22T01:31:30.675Z"
   },
   {
    "duration": 3,
    "start_time": "2024-09-22T01:31:40.336Z"
   },
   {
    "duration": 4,
    "start_time": "2024-09-22T01:31:52.444Z"
   },
   {
    "duration": 19,
    "start_time": "2024-09-22T01:33:27.139Z"
   },
   {
    "duration": 11,
    "start_time": "2024-09-22T01:45:08.117Z"
   },
   {
    "duration": 20,
    "start_time": "2024-09-22T01:45:32.047Z"
   },
   {
    "duration": 45,
    "start_time": "2024-09-22T01:47:55.738Z"
   },
   {
    "duration": 48,
    "start_time": "2024-09-22T01:48:39.778Z"
   },
   {
    "duration": 40,
    "start_time": "2024-09-22T01:48:52.356Z"
   },
   {
    "duration": 39,
    "start_time": "2024-09-22T01:48:56.447Z"
   },
   {
    "duration": 7,
    "start_time": "2024-09-22T01:50:03.326Z"
   },
   {
    "duration": 3,
    "start_time": "2024-09-22T01:56:58.147Z"
   },
   {
    "duration": 23,
    "start_time": "2024-09-22T02:03:37.127Z"
   },
   {
    "duration": 3,
    "start_time": "2024-09-22T02:04:12.349Z"
   },
   {
    "duration": 19,
    "start_time": "2024-09-22T02:04:16.921Z"
   },
   {
    "duration": 20,
    "start_time": "2024-09-22T02:04:27.338Z"
   },
   {
    "duration": 12,
    "start_time": "2024-09-22T02:05:03.047Z"
   },
   {
    "duration": 12,
    "start_time": "2024-09-22T02:05:13.106Z"
   },
   {
    "duration": 7,
    "start_time": "2024-09-22T02:05:34.656Z"
   },
   {
    "duration": 7,
    "start_time": "2024-09-22T02:05:54.367Z"
   },
   {
    "duration": 7,
    "start_time": "2024-09-22T02:06:16.142Z"
   },
   {
    "duration": 10,
    "start_time": "2024-09-22T02:06:36.920Z"
   },
   {
    "duration": 9,
    "start_time": "2024-09-22T02:06:50.747Z"
   },
   {
    "duration": 6,
    "start_time": "2024-09-22T02:06:59.357Z"
   },
   {
    "duration": 7,
    "start_time": "2024-09-22T02:07:11.335Z"
   },
   {
    "duration": 7,
    "start_time": "2024-09-22T02:07:22.318Z"
   },
   {
    "duration": 7,
    "start_time": "2024-09-22T02:10:48.979Z"
   },
   {
    "duration": 272,
    "start_time": "2024-09-22T02:15:06.542Z"
   },
   {
    "duration": 91,
    "start_time": "2024-09-22T02:15:12.488Z"
   },
   {
    "duration": 7,
    "start_time": "2024-09-22T02:15:14.978Z"
   },
   {
    "duration": 20,
    "start_time": "2024-09-22T02:15:19.830Z"
   },
   {
    "duration": 7,
    "start_time": "2024-09-22T02:15:30.198Z"
   },
   {
    "duration": 4,
    "start_time": "2024-09-22T02:15:34.464Z"
   },
   {
    "duration": 3,
    "start_time": "2024-09-22T02:15:37.875Z"
   },
   {
    "duration": 3,
    "start_time": "2024-09-22T02:15:41.346Z"
   },
   {
    "duration": 4,
    "start_time": "2024-09-22T02:15:43.473Z"
   },
   {
    "duration": 21,
    "start_time": "2024-09-22T02:16:36.768Z"
   },
   {
    "duration": 11,
    "start_time": "2024-09-22T02:16:40.013Z"
   },
   {
    "duration": 19,
    "start_time": "2024-09-22T02:16:42.250Z"
   },
   {
    "duration": 44,
    "start_time": "2024-09-22T02:16:45.444Z"
   },
   {
    "duration": 48,
    "start_time": "2024-09-22T02:16:48.087Z"
   },
   {
    "duration": 40,
    "start_time": "2024-09-22T02:16:50.510Z"
   },
   {
    "duration": 6,
    "start_time": "2024-09-22T02:16:53.527Z"
   },
   {
    "duration": 3,
    "start_time": "2024-09-22T02:17:00.421Z"
   },
   {
    "duration": 9,
    "start_time": "2024-09-22T02:17:04.028Z"
   },
   {
    "duration": 7,
    "start_time": "2024-09-22T02:17:06.185Z"
   },
   {
    "duration": 155,
    "start_time": "2024-09-22T02:21:22.017Z"
   },
   {
    "duration": 321,
    "start_time": "2024-09-22T02:23:08.268Z"
   },
   {
    "duration": 90,
    "start_time": "2024-09-22T02:23:11.761Z"
   },
   {
    "duration": 7,
    "start_time": "2024-09-22T02:23:13.721Z"
   },
   {
    "duration": 21,
    "start_time": "2024-09-22T02:23:17.486Z"
   },
   {
    "duration": 5,
    "start_time": "2024-09-22T02:24:03.747Z"
   },
   {
    "duration": 4,
    "start_time": "2024-09-22T02:24:06.361Z"
   },
   {
    "duration": 4,
    "start_time": "2024-09-22T02:24:38.690Z"
   },
   {
    "duration": 3,
    "start_time": "2024-09-22T02:24:44.371Z"
   },
   {
    "duration": 5,
    "start_time": "2024-09-22T02:24:46.740Z"
   },
   {
    "duration": 19,
    "start_time": "2024-09-22T02:24:50.197Z"
   },
   {
    "duration": 11,
    "start_time": "2024-09-22T02:24:53.038Z"
   },
   {
    "duration": 20,
    "start_time": "2024-09-22T02:24:55.826Z"
   },
   {
    "duration": 43,
    "start_time": "2024-09-22T02:25:00.695Z"
   },
   {
    "duration": 46,
    "start_time": "2024-09-22T02:25:02.870Z"
   },
   {
    "duration": 39,
    "start_time": "2024-09-22T02:25:05.140Z"
   },
   {
    "duration": 5,
    "start_time": "2024-09-22T02:25:08.447Z"
   },
   {
    "duration": 6,
    "start_time": "2024-09-22T02:25:25.672Z"
   },
   {
    "duration": 31,
    "start_time": "2024-09-22T02:25:45.723Z"
   },
   {
    "duration": 2,
    "start_time": "2024-09-22T02:25:53.383Z"
   },
   {
    "duration": 7,
    "start_time": "2024-09-22T02:26:00.811Z"
   },
   {
    "duration": 4,
    "start_time": "2024-09-22T02:26:10.685Z"
   },
   {
    "duration": 31,
    "start_time": "2024-09-22T02:26:15.507Z"
   },
   {
    "duration": 299,
    "start_time": "2024-09-22T02:27:06.171Z"
   },
   {
    "duration": 99,
    "start_time": "2024-09-22T02:27:06.472Z"
   },
   {
    "duration": 7,
    "start_time": "2024-09-22T02:27:06.573Z"
   },
   {
    "duration": 21,
    "start_time": "2024-09-22T02:27:06.582Z"
   },
   {
    "duration": 5,
    "start_time": "2024-09-22T02:27:06.607Z"
   },
   {
    "duration": 3,
    "start_time": "2024-09-22T02:27:06.613Z"
   },
   {
    "duration": 4,
    "start_time": "2024-09-22T02:27:06.618Z"
   },
   {
    "duration": 2,
    "start_time": "2024-09-22T02:27:06.624Z"
   },
   {
    "duration": 3,
    "start_time": "2024-09-22T02:27:06.628Z"
   },
   {
    "duration": 18,
    "start_time": "2024-09-22T02:27:06.670Z"
   },
   {
    "duration": 10,
    "start_time": "2024-09-22T02:27:06.690Z"
   },
   {
    "duration": 16,
    "start_time": "2024-09-22T02:27:06.701Z"
   },
   {
    "duration": 68,
    "start_time": "2024-09-22T02:27:06.719Z"
   },
   {
    "duration": 45,
    "start_time": "2024-09-22T02:27:06.791Z"
   },
   {
    "duration": 55,
    "start_time": "2024-09-22T02:27:06.837Z"
   },
   {
    "duration": 31,
    "start_time": "2024-09-22T02:27:06.894Z"
   },
   {
    "duration": 3,
    "start_time": "2024-09-22T02:27:06.926Z"
   },
   {
    "duration": 16,
    "start_time": "2024-09-22T02:27:06.930Z"
   },
   {
    "duration": 44,
    "start_time": "2024-09-22T02:27:06.948Z"
   },
   {
    "duration": 2,
    "start_time": "2024-09-22T02:27:06.994Z"
   },
   {
    "duration": 2,
    "start_time": "2024-09-22T02:27:06.998Z"
   },
   {
    "duration": 3,
    "start_time": "2024-09-22T02:27:07.002Z"
   },
   {
    "duration": 2,
    "start_time": "2024-09-22T02:27:07.007Z"
   },
   {
    "duration": 2,
    "start_time": "2024-09-22T02:27:07.011Z"
   },
   {
    "duration": 2,
    "start_time": "2024-09-22T02:27:07.015Z"
   },
   {
    "duration": 2,
    "start_time": "2024-09-22T02:27:07.019Z"
   },
   {
    "duration": 2,
    "start_time": "2024-09-22T02:27:07.023Z"
   },
   {
    "duration": 2,
    "start_time": "2024-09-22T02:27:07.026Z"
   },
   {
    "duration": 272,
    "start_time": "2024-09-22T02:28:23.857Z"
   },
   {
    "duration": 97,
    "start_time": "2024-09-22T02:28:24.131Z"
   },
   {
    "duration": 8,
    "start_time": "2024-09-22T02:28:24.230Z"
   },
   {
    "duration": 20,
    "start_time": "2024-09-22T02:28:24.239Z"
   },
   {
    "duration": 5,
    "start_time": "2024-09-22T02:28:24.271Z"
   },
   {
    "duration": 3,
    "start_time": "2024-09-22T02:28:24.277Z"
   },
   {
    "duration": 4,
    "start_time": "2024-09-22T02:28:24.282Z"
   },
   {
    "duration": 3,
    "start_time": "2024-09-22T02:28:24.288Z"
   },
   {
    "duration": 4,
    "start_time": "2024-09-22T02:28:24.292Z"
   },
   {
    "duration": 19,
    "start_time": "2024-09-22T02:28:24.297Z"
   },
   {
    "duration": 10,
    "start_time": "2024-09-22T02:28:24.317Z"
   },
   {
    "duration": 59,
    "start_time": "2024-09-22T02:28:24.329Z"
   },
   {
    "duration": 45,
    "start_time": "2024-09-22T02:28:24.390Z"
   },
   {
    "duration": 71,
    "start_time": "2024-09-22T02:28:24.439Z"
   },
   {
    "duration": 41,
    "start_time": "2024-09-22T02:28:24.512Z"
   },
   {
    "duration": 34,
    "start_time": "2024-09-22T02:28:24.555Z"
   },
   {
    "duration": 3,
    "start_time": "2024-09-22T02:28:24.591Z"
   },
   {
    "duration": 7,
    "start_time": "2024-09-22T02:28:24.599Z"
   },
   {
    "duration": 9,
    "start_time": "2024-09-22T02:28:24.607Z"
   },
   {
    "duration": 2,
    "start_time": "2024-09-22T02:28:24.617Z"
   },
   {
    "duration": 2,
    "start_time": "2024-09-22T02:28:24.622Z"
   },
   {
    "duration": 2,
    "start_time": "2024-09-22T02:28:24.625Z"
   },
   {
    "duration": 2,
    "start_time": "2024-09-22T02:28:24.629Z"
   },
   {
    "duration": 37,
    "start_time": "2024-09-22T02:28:24.633Z"
   },
   {
    "duration": 3,
    "start_time": "2024-09-22T02:28:24.671Z"
   },
   {
    "duration": 2,
    "start_time": "2024-09-22T02:28:24.676Z"
   },
   {
    "duration": 2,
    "start_time": "2024-09-22T02:28:24.680Z"
   },
   {
    "duration": 2,
    "start_time": "2024-09-22T02:28:24.684Z"
   },
   {
    "duration": 9,
    "start_time": "2024-09-22T02:28:51.978Z"
   },
   {
    "duration": 285,
    "start_time": "2024-09-22T02:29:16.261Z"
   },
   {
    "duration": 98,
    "start_time": "2024-09-22T02:29:16.549Z"
   },
   {
    "duration": 7,
    "start_time": "2024-09-22T02:29:16.649Z"
   },
   {
    "duration": 35,
    "start_time": "2024-09-22T02:29:16.658Z"
   },
   {
    "duration": 5,
    "start_time": "2024-09-22T02:29:16.697Z"
   },
   {
    "duration": 3,
    "start_time": "2024-09-22T02:29:16.704Z"
   },
   {
    "duration": 3,
    "start_time": "2024-09-22T02:29:16.709Z"
   },
   {
    "duration": 3,
    "start_time": "2024-09-22T02:29:16.714Z"
   },
   {
    "duration": 4,
    "start_time": "2024-09-22T02:29:16.718Z"
   },
   {
    "duration": 56,
    "start_time": "2024-09-22T02:29:16.724Z"
   },
   {
    "duration": 11,
    "start_time": "2024-09-22T02:29:16.782Z"
   },
   {
    "duration": 16,
    "start_time": "2024-09-22T02:29:16.795Z"
   },
   {
    "duration": 59,
    "start_time": "2024-09-22T02:29:16.813Z"
   },
   {
    "duration": 48,
    "start_time": "2024-09-22T02:29:16.876Z"
   },
   {
    "duration": 52,
    "start_time": "2024-09-22T02:29:16.926Z"
   },
   {
    "duration": 32,
    "start_time": "2024-09-22T02:29:16.980Z"
   },
   {
    "duration": 3,
    "start_time": "2024-09-22T02:29:17.014Z"
   },
   {
    "duration": 8,
    "start_time": "2024-09-22T02:29:17.018Z"
   },
   {
    "duration": 51,
    "start_time": "2024-09-22T02:29:17.028Z"
   },
   {
    "duration": 4,
    "start_time": "2024-09-22T02:29:17.081Z"
   },
   {
    "duration": 2,
    "start_time": "2024-09-22T02:29:17.087Z"
   },
   {
    "duration": 3,
    "start_time": "2024-09-22T02:29:17.091Z"
   },
   {
    "duration": 2,
    "start_time": "2024-09-22T02:29:17.096Z"
   },
   {
    "duration": 3,
    "start_time": "2024-09-22T02:29:17.100Z"
   },
   {
    "duration": 2,
    "start_time": "2024-09-22T02:29:17.105Z"
   },
   {
    "duration": 3,
    "start_time": "2024-09-22T02:29:17.109Z"
   },
   {
    "duration": 2,
    "start_time": "2024-09-22T02:29:17.115Z"
   },
   {
    "duration": 3,
    "start_time": "2024-09-22T02:29:17.121Z"
   },
   {
    "duration": 156,
    "start_time": "2024-09-22T04:09:09.583Z"
   },
   {
    "duration": 3,
    "start_time": "2024-09-22T04:09:20.499Z"
   },
   {
    "duration": 12,
    "start_time": "2024-09-22T04:09:23.735Z"
   },
   {
    "duration": 274,
    "start_time": "2024-09-22T04:09:35.221Z"
   },
   {
    "duration": 118,
    "start_time": "2024-09-22T04:09:35.497Z"
   },
   {
    "duration": 6,
    "start_time": "2024-09-22T04:09:35.617Z"
   },
   {
    "duration": 29,
    "start_time": "2024-09-22T04:09:35.626Z"
   },
   {
    "duration": 10,
    "start_time": "2024-09-22T04:09:35.657Z"
   },
   {
    "duration": 3,
    "start_time": "2024-09-22T04:09:35.669Z"
   },
   {
    "duration": 4,
    "start_time": "2024-09-22T04:09:35.676Z"
   },
   {
    "duration": 3,
    "start_time": "2024-09-22T04:09:35.682Z"
   },
   {
    "duration": 5,
    "start_time": "2024-09-22T04:09:35.686Z"
   },
   {
    "duration": 49,
    "start_time": "2024-09-22T04:09:35.694Z"
   },
   {
    "duration": 9,
    "start_time": "2024-09-22T04:09:35.745Z"
   },
   {
    "duration": 16,
    "start_time": "2024-09-22T04:09:35.756Z"
   },
   {
    "duration": 41,
    "start_time": "2024-09-22T04:09:35.774Z"
   },
   {
    "duration": 64,
    "start_time": "2024-09-22T04:09:35.817Z"
   },
   {
    "duration": 37,
    "start_time": "2024-09-22T04:09:35.883Z"
   },
   {
    "duration": 44,
    "start_time": "2024-09-22T04:09:35.922Z"
   },
   {
    "duration": 3,
    "start_time": "2024-09-22T04:09:35.969Z"
   },
   {
    "duration": 7,
    "start_time": "2024-09-22T04:09:35.974Z"
   },
   {
    "duration": 30,
    "start_time": "2024-09-22T04:09:35.983Z"
   },
   {
    "duration": 2,
    "start_time": "2024-09-22T04:09:36.015Z"
   },
   {
    "duration": 3,
    "start_time": "2024-09-22T04:09:36.042Z"
   },
   {
    "duration": 2,
    "start_time": "2024-09-22T04:09:36.047Z"
   },
   {
    "duration": 2,
    "start_time": "2024-09-22T04:09:36.051Z"
   },
   {
    "duration": 2,
    "start_time": "2024-09-22T04:09:36.055Z"
   },
   {
    "duration": 3,
    "start_time": "2024-09-22T04:09:36.059Z"
   },
   {
    "duration": 2,
    "start_time": "2024-09-22T04:09:36.063Z"
   },
   {
    "duration": 2,
    "start_time": "2024-09-22T04:09:36.067Z"
   },
   {
    "duration": 2,
    "start_time": "2024-09-22T04:09:36.074Z"
   },
   {
    "duration": 7,
    "start_time": "2024-09-22T04:09:42.933Z"
   },
   {
    "duration": 7,
    "start_time": "2024-09-22T04:10:43.790Z"
   },
   {
    "duration": 33,
    "start_time": "2024-09-22T04:10:48.641Z"
   },
   {
    "duration": 20,
    "start_time": "2024-09-22T05:50:22.173Z"
   },
   {
    "duration": 10,
    "start_time": "2024-09-22T05:51:44.805Z"
   },
   {
    "duration": 9,
    "start_time": "2024-09-22T05:56:56.170Z"
   },
   {
    "duration": 11,
    "start_time": "2024-09-22T05:57:08.486Z"
   },
   {
    "duration": 7,
    "start_time": "2024-09-22T06:15:43.806Z"
   },
   {
    "duration": 31,
    "start_time": "2024-09-22T06:15:54.673Z"
   },
   {
    "duration": 10,
    "start_time": "2024-09-22T06:16:05.026Z"
   },
   {
    "duration": 10,
    "start_time": "2024-09-22T06:16:11.575Z"
   },
   {
    "duration": 3,
    "start_time": "2024-09-22T06:18:49.368Z"
   },
   {
    "duration": 3,
    "start_time": "2024-09-22T06:18:54.379Z"
   },
   {
    "duration": 7,
    "start_time": "2024-09-22T06:19:30.069Z"
   },
   {
    "duration": 3,
    "start_time": "2024-09-22T06:20:01.369Z"
   },
   {
    "duration": 8,
    "start_time": "2024-09-22T06:20:04.767Z"
   },
   {
    "duration": 3,
    "start_time": "2024-09-22T06:21:48.692Z"
   },
   {
    "duration": 4,
    "start_time": "2024-09-22T06:22:24.970Z"
   },
   {
    "duration": 13,
    "start_time": "2024-09-22T06:22:28.208Z"
   },
   {
    "duration": 3,
    "start_time": "2024-09-22T06:22:43.664Z"
   },
   {
    "duration": 15,
    "start_time": "2024-09-22T06:22:47.128Z"
   },
   {
    "duration": 3,
    "start_time": "2024-09-22T06:23:01.313Z"
   },
   {
    "duration": 14,
    "start_time": "2024-09-22T06:23:04.094Z"
   },
   {
    "duration": 3,
    "start_time": "2024-09-22T06:23:24.019Z"
   },
   {
    "duration": 14,
    "start_time": "2024-09-22T06:23:27.188Z"
   },
   {
    "duration": 12,
    "start_time": "2024-09-22T06:23:41.312Z"
   },
   {
    "duration": 13,
    "start_time": "2024-09-22T06:30:43.861Z"
   },
   {
    "duration": 13,
    "start_time": "2024-09-22T06:30:48.378Z"
   },
   {
    "duration": 14,
    "start_time": "2024-09-22T06:30:53.084Z"
   },
   {
    "duration": 8,
    "start_time": "2024-09-22T06:30:56.120Z"
   },
   {
    "duration": 7,
    "start_time": "2024-09-22T06:31:43.433Z"
   },
   {
    "duration": 18,
    "start_time": "2024-09-22T06:32:30.664Z"
   },
   {
    "duration": 12,
    "start_time": "2024-09-22T06:33:42.400Z"
   },
   {
    "duration": 10,
    "start_time": "2024-09-22T06:34:14.626Z"
   },
   {
    "duration": 283,
    "start_time": "2024-09-22T14:07:43.167Z"
   },
   {
    "duration": 116,
    "start_time": "2024-09-22T14:07:43.452Z"
   },
   {
    "duration": 7,
    "start_time": "2024-09-22T14:07:43.570Z"
   },
   {
    "duration": 34,
    "start_time": "2024-09-22T14:07:43.578Z"
   },
   {
    "duration": 6,
    "start_time": "2024-09-22T14:07:43.615Z"
   },
   {
    "duration": 3,
    "start_time": "2024-09-22T14:07:43.623Z"
   },
   {
    "duration": 5,
    "start_time": "2024-09-22T14:07:43.628Z"
   },
   {
    "duration": 2,
    "start_time": "2024-09-22T14:07:43.636Z"
   },
   {
    "duration": 5,
    "start_time": "2024-09-22T14:07:43.641Z"
   },
   {
    "duration": 20,
    "start_time": "2024-09-22T14:07:43.650Z"
   },
   {
    "duration": 43,
    "start_time": "2024-09-22T14:07:43.673Z"
   },
   {
    "duration": 18,
    "start_time": "2024-09-22T14:07:43.718Z"
   },
   {
    "duration": 43,
    "start_time": "2024-09-22T14:07:43.737Z"
   },
   {
    "duration": 63,
    "start_time": "2024-09-22T14:07:43.783Z"
   },
   {
    "duration": 38,
    "start_time": "2024-09-22T14:07:43.848Z"
   },
   {
    "duration": 43,
    "start_time": "2024-09-22T14:07:43.887Z"
   },
   {
    "duration": 3,
    "start_time": "2024-09-22T14:07:43.932Z"
   },
   {
    "duration": 8,
    "start_time": "2024-09-22T14:07:43.937Z"
   },
   {
    "duration": 31,
    "start_time": "2024-09-22T14:07:43.946Z"
   },
   {
    "duration": 35,
    "start_time": "2024-09-22T14:07:43.978Z"
   },
   {
    "duration": 10,
    "start_time": "2024-09-22T14:07:44.014Z"
   },
   {
    "duration": 4,
    "start_time": "2024-09-22T14:07:44.025Z"
   },
   {
    "duration": 16,
    "start_time": "2024-09-22T14:07:44.030Z"
   },
   {
    "duration": 12,
    "start_time": "2024-09-22T14:07:44.048Z"
   },
   {
    "duration": 13,
    "start_time": "2024-09-22T14:07:44.061Z"
   },
   {
    "duration": 42,
    "start_time": "2024-09-22T14:07:44.075Z"
   },
   {
    "duration": 13,
    "start_time": "2024-09-22T14:07:44.118Z"
   },
   {
    "duration": 12,
    "start_time": "2024-09-22T14:07:44.132Z"
   }
  ],
  "colab": {
   "collapsed_sections": [
    "E0vqbgi9ay0H",
    "VUC88oWjTJw2"
   ],
   "provenance": []
  },
  "kernelspec": {
   "display_name": "Python 3",
   "language": "python",
   "name": "python3"
  },
  "language_info": {
   "codemirror_mode": {
    "name": "ipython",
    "version": 3
   },
   "file_extension": ".py",
   "mimetype": "text/x-python",
   "name": "python",
   "nbconvert_exporter": "python",
   "pygments_lexer": "ipython3",
   "version": "3.12.4"
  },
  "toc": {
   "base_numbering": 1,
   "nav_menu": {},
   "number_sections": true,
   "sideBar": true,
   "skip_h1_title": true,
   "title_cell": "Table of Contents",
   "title_sidebar": "Contents",
   "toc_cell": false,
   "toc_position": {},
   "toc_section_display": true,
   "toc_window_display": false
  }
 },
 "nbformat": 4,
 "nbformat_minor": 4
}
